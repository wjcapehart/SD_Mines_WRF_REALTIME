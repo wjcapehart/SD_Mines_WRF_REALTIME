{
 "cells": [
  {
   "cell_type": "markdown",
   "id": "8101dc12-3c8f-47f5-8b1a-05eb8f293359",
   "metadata": {},
   "source": [
    "# WRF Realtime Script\n",
    "\n",
    "## Libraries"
   ]
  },
  {
   "cell_type": "code",
   "execution_count": 47,
   "id": "e8d2028b-4d0b-43a1-aed9-bb092d3aa305",
   "metadata": {},
   "outputs": [],
   "source": [
    "######################################\n",
    "#\n",
    "# Libraries\n",
    "#\n",
    "\n",
    "import numpy             as np\n",
    "import matplotlib.pyplot as plt\n",
    "import ftplib            as ftplib\n",
    "import datetime          as datetime\n",
    "import os                as os\n",
    "\n",
    "#\n",
    "######################################"
   ]
  },
  {
   "cell_type": "markdown",
   "id": "262c4c54",
   "metadata": {},
   "source": [
    "## Directory Control"
   ]
  },
  {
   "cell_type": "code",
   "execution_count": 48,
   "id": "a2283c32",
   "metadata": {},
   "outputs": [
    {
     "data": {
      "text/plain": [
       "'Current Working Directory is now /Users/wjc/GitHub/SD_Mines_WRF_REALTIME'"
      ]
     },
     "metadata": {},
     "output_type": "display_data"
    }
   ],
   "source": [
    "######################################\n",
    "#\n",
    "# Directory Workspaces\n",
    "#\n",
    "\n",
    "beta_test = 1\n",
    "\n",
    "WRF_OVERALL_DIR =\"/Users/wjc/GitHub/SD_Mines_WRF_REALTIME/\"\n",
    "\n",
    "os.chdir(WRF_OVERALL_DIR)\n",
    "\n",
    "display( \"Current Working Directory is now \" + os.getcwd() )\n",
    "\n",
    "\n",
    "\n",
    "WPS_WORK = WRF_OVERALL_DIR + \"./WPS_PrepArea/\"\n",
    "WPS_EXE  = WRF_OVERALL_DIR + \"./WRF4/WPS/\"\n",
    "WRF_EXE  = WRF_OVERALL_DIR + \"./WRF4/WRF/test/em_real/\"\n",
    "\n",
    "NCEP_FTP_URLROOT = \"ftp://ftpprd.ncep.noaa.gov/pub/data/nccf/com/nam/prod/nam.\"\n",
    "\n",
    "\n",
    "NCEP_FTP_SERVER = \"ftpprd.ncep.noaa.gov\"\n",
    "\n",
    "NCEP_FTP_GRIB_DIR_ROOT = \"/pub/data/nccf/com/nam/prod/nam.\"\n",
    "\n",
    "\n",
    "#\n",
    "######################################"
   ]
  },
  {
   "cell_type": "markdown",
   "id": "37515ace-97c2-4c78-82f2-3903310b49a8",
   "metadata": {},
   "source": [
    "## Time Settings\n",
    "\n",
    "### Setting up Time Intervals"
   ]
  },
  {
   "cell_type": "code",
   "execution_count": 49,
   "id": "7803a4a7-fd03-485d-bad4-951ac324e366",
   "metadata": {
    "tags": []
   },
   "outputs": [],
   "source": [
    "######################################\n",
    "#\n",
    "# Model Time Intervals\n",
    "#\n",
    "\n",
    "time_interval_between_runs            =  6 # hours\n",
    "\n",
    "time_between_output_steps             =  1 # hours\n",
    "\n",
    "total_sumulation_time                 = 36 # hours\n",
    "\n",
    "time_between_boundary_condition_feeds =  3 # hours\n",
    "\n",
    "#\n",
    "######################################"
   ]
  },
  {
   "cell_type": "markdown",
   "id": "0a5ab349-1ebd-4727-b532-63888dc4b3d3",
   "metadata": {},
   "source": [
    "### Timings for each run\n",
    "\n",
    "The Realtime WRF is generated every 6 hr at best.  The model takes 3 hr to \n",
    "\n",
    "| Model Product Time (UTC) | Wallclock Start Time (UTC) |\n",
    "|:------------------------:|:--------------------------:|\n",
    "|        00 UTC            |        03 UTC              |\n",
    "|        06 UTC            |        09 UTC              |\n",
    "|        12 UTC            |        15 UTC              |\n",
    "|        18 UTC            |        21 UTC              |"
   ]
  },
  {
   "cell_type": "code",
   "execution_count": 50,
   "id": "71f039fc-a0d8-4bc5-9390-7e6a34a21dd8",
   "metadata": {},
   "outputs": [
    {
     "name": "stdout",
     "output_type": "stream",
     "text": [
      "           Current Time  2021-09-07 22:29:17.061368\n",
      "WRF Forecast Start Time  2021-09-07 12:00:00\n",
      "  WRF Forecast End Time  2021-09-09 00:00:00\n"
     ]
    }
   ],
   "source": [
    "######################################\n",
    "#\n",
    "# Identify Specific Run by Wall Clock Window\n",
    "#\n",
    "\n",
    "lag_hours = 3\n",
    "\n",
    "current_datetime = datetime.datetime.utcnow()\n",
    "\n",
    "\n",
    "\n",
    "if (not beta_test) :\n",
    "\n",
    "\n",
    "\n",
    "    #current_datetime = datetime.datetime(year   = 2021,\n",
    "    #                                     month  =    8, \n",
    "    #                                     day    =    4, \n",
    "    #                                     hour   =   22,\n",
    "    #                                     minute =   15)\n",
    "\n",
    "    current_datetime_lag3 = current_datetime - datetime.timedelta(hours=lag_hours)\n",
    "\n",
    "\n",
    "    if (current_datetime.day == current_datetime_lag3.day):\n",
    "        if (current_datetime_lag3.hour < 6):\n",
    "            fx_hour =  0\n",
    "        elif (current_datetime_lag3.hour < 12):\n",
    "            fx_hour =  6\n",
    "        elif (current_datetime_lag3.hour < 18):\n",
    "            fx_hour = 12\n",
    "        else:\n",
    "            fx_hour = 18\n",
    "\n",
    "        model_start_datetime = datetime.datetime(year  = current_datetime_lag3.year,\n",
    "                                                 month = current_datetime_lag3.month, \n",
    "                                                 day   = current_datetime_lag3.day, \n",
    "                                                 hour  = fx_hour)     \n",
    "    else:\n",
    "        fx_hour = 18\n",
    "        model_start_datetime = datetime.datetime(year  = current_datetime_lag3.year,\n",
    "                                                 month = current_datetime_lag3.month, \n",
    "                                                 day   = current_datetime_lag3.day, \n",
    "                                                 hour  = fx_hour)\n",
    "        \n",
    "else:\n",
    "\n",
    "\n",
    "    model_start_datetime = datetime.datetime(year  = 2021,\n",
    "                                             month =    9,\n",
    "                                             day   =    7,\n",
    "                                             hour  =   12)\n",
    "    \n",
    "model_end_datetime = model_start_datetime + datetime.timedelta(hours=total_sumulation_time)\n",
    "\n",
    "print(\"           Current Time \", current_datetime)\n",
    "print(\"WRF Forecast Start Time \", model_start_datetime)\n",
    "print(\"  WRF Forecast End Time \", model_end_datetime)\n",
    "\n",
    "\n",
    "\n",
    "\n",
    "#\n",
    "######################################"
   ]
  },
  {
   "cell_type": "markdown",
   "id": "addc73c4",
   "metadata": {},
   "source": [
    "## WRF Preprocessing System Components (WPS)\n",
    "\n",
    "\n",
    "\n",
    "### Move to WPS Work Directory"
   ]
  },
  {
   "cell_type": "code",
   "execution_count": 51,
   "id": "f7aea8a7",
   "metadata": {},
   "outputs": [
    {
     "name": "stdout",
     "output_type": "stream",
     "text": [
      "Entering WPS Section\n"
     ]
    },
    {
     "data": {
      "text/plain": [
       "'Current Working Directory is now /Users/wjc/GitHub/SD_Mines_WRF_REALTIME/WPS_PrepArea'"
      ]
     },
     "metadata": {},
     "output_type": "display_data"
    }
   ],
   "source": [
    "\n",
    "print(\"Entering WPS Section\")\n",
    "\n",
    "os.chdir(WPS_WORK)\n",
    "\n",
    "display( \"Current Working Directory is now \" + os.getcwd() )"
   ]
  },
  {
   "cell_type": "markdown",
   "id": "ad9cfe0b",
   "metadata": {},
   "source": [
    "### NCEP Model Boundary Condition Times"
   ]
  },
  {
   "cell_type": "code",
   "execution_count": 52,
   "id": "fa26a0ff",
   "metadata": {},
   "outputs": [
    {
     "name": "stdout",
     "output_type": "stream",
     "text": [
      "['00', '03', '06', '09', '12', '15', '18', '21', '24', '27', '30', '33', '36']\n"
     ]
    },
    {
     "data": {
      "text/plain": [
       "13"
      ]
     },
     "execution_count": 52,
     "metadata": {},
     "output_type": "execute_result"
    }
   ],
   "source": [
    "## Enter Working WPS Direcotry\n",
    "\n",
    "\n",
    "ncep_boundary_condition_hour = np.arange(0, \n",
    "                                         total_sumulation_time + 1, \n",
    "                                         time_between_boundary_condition_feeds)\n",
    "\n",
    "ncep_boundary_condition_hour = [str(x).zfill(2) for x in ncep_boundary_condition_hour]\n",
    "\n",
    "print(ncep_boundary_condition_hour)\n",
    "\n",
    "len(ncep_boundary_condition_hour)\n",
    "\n"
   ]
  },
  {
   "cell_type": "markdown",
   "id": "4c9c5800",
   "metadata": {},
   "source": [
    "### Times for First Guess NCEP Runs\n",
    "\n"
   ]
  },
  {
   "cell_type": "code",
   "execution_count": 53,
   "id": "3904af8c-72eb-4e77-a16a-70fd56aad04c",
   "metadata": {},
   "outputs": [
    {
     "name": "stdout",
     "output_type": "stream",
     "text": [
      "ftp://ftpprd.ncep.noaa.gov/pub/data/nccf/com/nam/prod/nam.20210907\n",
      "/pub/data/nccf/com/nam/prod/nam.20210907\n"
     ]
    },
    {
     "data": {
      "text/plain": [
       "['./nam.t12z.conusnest.hiresf00.tm00.grib2',\n",
       " './nam.t12z.conusnest.hiresf03.tm00.grib2',\n",
       " './nam.t12z.conusnest.hiresf06.tm00.grib2',\n",
       " './nam.t12z.conusnest.hiresf09.tm00.grib2',\n",
       " './nam.t12z.conusnest.hiresf12.tm00.grib2',\n",
       " './nam.t12z.conusnest.hiresf15.tm00.grib2',\n",
       " './nam.t12z.conusnest.hiresf18.tm00.grib2',\n",
       " './nam.t12z.conusnest.hiresf21.tm00.grib2',\n",
       " './nam.t12z.conusnest.hiresf24.tm00.grib2',\n",
       " './nam.t12z.conusnest.hiresf27.tm00.grib2',\n",
       " './nam.t12z.conusnest.hiresf30.tm00.grib2',\n",
       " './nam.t12z.conusnest.hiresf33.tm00.grib2',\n",
       " './nam.t12z.conusnest.hiresf36.tm00.grib2']"
      ]
     },
     "metadata": {},
     "output_type": "display_data"
    },
    {
     "data": {
      "text/plain": [
       "['./ncep_first_guess_grib_00.grib2',\n",
       " './ncep_first_guess_grib_03.grib2',\n",
       " './ncep_first_guess_grib_06.grib2',\n",
       " './ncep_first_guess_grib_09.grib2',\n",
       " './ncep_first_guess_grib_12.grib2',\n",
       " './ncep_first_guess_grib_15.grib2',\n",
       " './ncep_first_guess_grib_18.grib2',\n",
       " './ncep_first_guess_grib_21.grib2',\n",
       " './ncep_first_guess_grib_24.grib2',\n",
       " './ncep_first_guess_grib_27.grib2',\n",
       " './ncep_first_guess_grib_30.grib2',\n",
       " './ncep_first_guess_grib_33.grib2',\n",
       " './ncep_first_guess_grib_36.grib2']"
      ]
     },
     "metadata": {},
     "output_type": "display_data"
    }
   ],
   "source": [
    "model_start_YYYYMMDD = model_start_datetime.strftime(\"%Y%m%d\")\n",
    "model_start_HH       = model_start_datetime.strftime(\"%H\")\n",
    "\n",
    "ftp_directory = NCEP_FTP_URLROOT + model_start_YYYYMMDD\n",
    "\n",
    "print(ftp_directory)\n",
    "\n",
    "# nam.tHHz.conusnest.hiresfFF.tm00.grib2\n",
    "\n",
    "ncep_ftp_address = [ftp_directory + \"/nam.t\" + model_start_HH + \"z.conusnest.hiresf\" + x + \".tm00.grib2\" for x in ncep_boundary_condition_hour]\n",
    "\n",
    "# NCEP File Name Template\n",
    "# /pub/data/nccf/com/nam/prod/nam.20210904/nam.t00z.conusnest.hiresf03.tm00.grib2\n",
    "# ncep_ftp_file = NCEP_FTP_GRIB_DIR_ROOT + model_start_YYYYMMDD \n",
    "\n",
    "ncep_ftp_dir = NCEP_FTP_GRIB_DIR_ROOT + model_start_YYYYMMDD \n",
    "\n",
    "print(ncep_ftp_dir)\n",
    "\n",
    "ncep_ftp_file = [\"./nam.t\" + model_start_HH + \"z.conusnest.hiresf\" + x + \".tm00.grib2\" for x in ncep_boundary_condition_hour]\n",
    "\n",
    "local_ftp_file = [\"./ncep_first_guess_grib_\" + x + \".grib2\" for x in ncep_boundary_condition_hour]\n",
    "\n",
    "\n",
    "display(ncep_ftp_file)\n",
    "\n",
    "display(local_ftp_file)"
   ]
  },
  {
   "cell_type": "markdown",
   "id": "b39b2fa4-e8db-4355-948e-03cbe8f5d8a6",
   "metadata": {},
   "source": [
    "### FTP GRIB Files from NCEP\n"
   ]
  },
  {
   "cell_type": "code",
   "execution_count": 54,
   "id": "05a11774",
   "metadata": {},
   "outputs": [
    {
     "name": "stdout",
     "output_type": "stream",
     "text": [
      "/Users/wjc/GitHub/SD_Mines_WRF_REALTIME/./WPS_PrepArea/./ungriblog.txt\n",
      "/Users/wjc/GitHub/SD_Mines_WRF_REALTIME/./WPS_PrepArea/./ungrib.log\n",
      "/Users/wjc/GitHub/SD_Mines_WRF_REALTIME/./WPS_PrepArea/./GRIBFILE.AAA\n",
      "/Users/wjc/GitHub/SD_Mines_WRF_REALTIME/./WPS_PrepArea/./GRIBFILE.AAB\n",
      "/Users/wjc/GitHub/SD_Mines_WRF_REALTIME/./WPS_PrepArea/./GRIBFILE.AAC\n",
      "/Users/wjc/GitHub/SD_Mines_WRF_REALTIME/./WPS_PrepArea/./GRIBFILE.AAD\n",
      "/Users/wjc/GitHub/SD_Mines_WRF_REALTIME/./WPS_PrepArea/./GRIBFILE.AAE\n",
      "/Users/wjc/GitHub/SD_Mines_WRF_REALTIME/./WPS_PrepArea/./GRIBFILE.AAF\n",
      "/Users/wjc/GitHub/SD_Mines_WRF_REALTIME/./WPS_PrepArea/./GRIBFILE.AAG\n",
      "/Users/wjc/GitHub/SD_Mines_WRF_REALTIME/./WPS_PrepArea/./GRIBFILE.AAH\n",
      "/Users/wjc/GitHub/SD_Mines_WRF_REALTIME/./WPS_PrepArea/./GRIBFILE.AAI\n",
      "/Users/wjc/GitHub/SD_Mines_WRF_REALTIME/./WPS_PrepArea/./GRIBFILE.AAJ\n",
      "/Users/wjc/GitHub/SD_Mines_WRF_REALTIME/./WPS_PrepArea/./GRIBFILE.AAK\n",
      "/Users/wjc/GitHub/SD_Mines_WRF_REALTIME/./WPS_PrepArea/./GRIBFILE.AAL\n",
      "/Users/wjc/GitHub/SD_Mines_WRF_REALTIME/./WPS_PrepArea/./GRIBFILE.AAM\n",
      "/Users/wjc/GitHub/SD_Mines_WRF_REALTIME/./WPS_PrepArea/./FILE:2021-09-07_12\n",
      "/Users/wjc/GitHub/SD_Mines_WRF_REALTIME/./WPS_PrepArea/./FILE:2021-09-07_15\n",
      "/Users/wjc/GitHub/SD_Mines_WRF_REALTIME/./WPS_PrepArea/./FILE:2021-09-07_18\n",
      "/Users/wjc/GitHub/SD_Mines_WRF_REALTIME/./WPS_PrepArea/./FILE:2021-09-07_21\n",
      "/Users/wjc/GitHub/SD_Mines_WRF_REALTIME/./WPS_PrepArea/./FILE:2021-09-08_00\n",
      "/Users/wjc/GitHub/SD_Mines_WRF_REALTIME/./WPS_PrepArea/./FILE:2021-09-08_03\n",
      "/Users/wjc/GitHub/SD_Mines_WRF_REALTIME/./WPS_PrepArea/./FILE:2021-09-08_06\n",
      "/Users/wjc/GitHub/SD_Mines_WRF_REALTIME/./WPS_PrepArea/./FILE:2021-09-08_09\n",
      "/Users/wjc/GitHub/SD_Mines_WRF_REALTIME/./WPS_PrepArea/./FILE:2021-09-08_12\n",
      "/Users/wjc/GitHub/SD_Mines_WRF_REALTIME/./WPS_PrepArea/./FILE:2021-09-08_15\n",
      "/Users/wjc/GitHub/SD_Mines_WRF_REALTIME/./WPS_PrepArea/./FILE:2021-09-08_18\n",
      "/Users/wjc/GitHub/SD_Mines_WRF_REALTIME/./WPS_PrepArea/./FILE:2021-09-08_21\n",
      "/Users/wjc/GitHub/SD_Mines_WRF_REALTIME/./WPS_PrepArea/./FILE:2021-09-09_00\n",
      "/Users/wjc/GitHub/SD_Mines_WRF_REALTIME/./WPS_PrepArea/./namelist.wps\n",
      "/Users/wjc/GitHub/SD_Mines_WRF_REALTIME/./WPS_PrepArea/./NAMELIST_WPS_SHARE.TXT\n"
     ]
    },
    {
     "data": {
      "text/plain": [
       "0"
      ]
     },
     "execution_count": 54,
     "metadata": {},
     "output_type": "execute_result"
    }
   ],
   "source": [
    "os.system(\"rm -frv \" + WPS_WORK + \"./ungriblog.txt\")\n",
    "os.system(\"rm -frv \" + WPS_WORK + \"./ungrib.log\")\n",
    "\n",
    "\n",
    "os.system(\"rm -frv \" + WPS_WORK + \"./GRIBFILE*\")\n",
    "os.system(\"rm -frv \" + WPS_WORK + \"./met_em*.nc\")\n",
    "os.system(\"rm -frv \" + WPS_WORK + \"./FILE:????-??-??_??\")\n",
    "\n",
    "os.system(\"rm -frv \" + WPS_WORK + \"./namelist.wps\")\n",
    "os.system(\"rm -frv \" + WPS_WORK + \"./NAMELIST_WPS_SHARE.TXT\")\n",
    "\n",
    "\n",
    "if (not beta_test):\n",
    "    \n",
    "    os.system(\"rm -frv \" + WPS_WORK + \"./ncep_first_guess_grib_*.grib2\")\n",
    "\n",
    "\n",
    "    ftp = ftplib.FTP(NCEP_FTP_SERVER)\n",
    "    ftp.login('Anonymous','William.Capehart@sdsmt.edu')\n",
    "\n",
    "    for file in range(0,len(ncep_boundary_condition_hour)):\n",
    "        print(\"Downloading...\" + ncep_ftp_file[file] + \" to \" + local_ftp_file[file])\n",
    "        ftp.retrbinary(\"RETR \" + ncep_ftp_dir + \"/\" + ncep_ftp_file[file],\n",
    "                       open(WPS_WORK + local_ftp_file[file], 'wb').write)\n",
    "\n",
    "    ftp.close()\n",
    "    \n",
    "\n",
    "os.system(WPS_EXE +\"./link_grib.csh \" +  WPS_WORK + \"./ncep_first_guess_grib_*.grib2\")"
   ]
  },
  {
   "cell_type": "markdown",
   "id": "04200ba0-5f05-48d4-b7f9-a125c1e0e91a",
   "metadata": {},
   "source": [
    "### Create Namelist.WPS File\n",
    "\n",
    "Creates the following template and merges with a root value.\n",
    "\n",
    "```\n",
    "&share\n",
    " wrf_core = 'ARW',\n",
    " max_dom = 3,\n",
    " start_date = '2019-09-04_12:00:00','2019-09-04_12:00:00',\n",
    " end_date   = '2019-09-06_00:00:00','2019-09-04_12:00:00',\n",
    " interval_seconds = 10800\n",
    "/\n",
    "```"
   ]
  },
  {
   "cell_type": "code",
   "execution_count": 55,
   "id": "e7358c47",
   "metadata": {},
   "outputs": [
    {
     "name": "stdout",
     "output_type": "stream",
     "text": [
      "Create Namelist.WPS File\n"
     ]
    },
    {
     "data": {
      "text/plain": [
       "0"
      ]
     },
     "execution_count": 55,
     "metadata": {},
     "output_type": "execute_result"
    }
   ],
   "source": [
    "print(\"Create Namelist.WPS File\")\n",
    "\n",
    "model_start_wpsdate = model_start_datetime.strftime(\"%Y-%m-%d_%H:%M:00\")\n",
    "model_end_wpsdate   =   model_end_datetime.strftime(\"%Y-%m-%d_%H:%M:00\")\n",
    "\n",
    "\n",
    "\n",
    "with open(WPS_WORK + \"./NAMELIST_WPS_SHARE.TXT\", 'w') as f:\n",
    "    print(\"&share\", file =  f)\n",
    "    print(\" wrf_core         = 'ARW',\", file =  f)\n",
    "    print(\" max_dom          =     3,\", file =  f)\n",
    "    print(\" start_date       = '\" + model_start_wpsdate + \"', '\"\n",
    "                                  + model_start_wpsdate + \"', '\"\n",
    "                                  + model_start_wpsdate + \"',\", file =  f)\n",
    "    print(\" end_date         = '\" + model_end_wpsdate   + \"', '\"\n",
    "                                  + model_end_wpsdate   + \"', '\"\n",
    "                                  + model_end_wpsdate   + \"',\", file =  f)\n",
    "    print(\" interval_seconds = \"  + str(time_between_boundary_condition_feeds*3600) + \",\", file =  f)\n",
    "    print(\"/\", file =  f)\n",
    "\n",
    "os.system(\"cat  NAMELIST_WPS_SHARE.TXT \"+ WRF_OVERALL_DIR +\"./namelist_files/NAMELIST_WPS_ROOT.TXT > namelist.wps\")\n",
    "\n"
   ]
  },
  {
   "cell_type": "markdown",
   "id": "46690827-d600-4ac4-b4f3-4961e8dc5d78",
   "metadata": {},
   "source": [
    "### Execute UNGRIB.EXE, "
   ]
  },
  {
   "cell_type": "code",
   "execution_count": 56,
   "id": "bbbc517a-2e05-4735-9fe4-f51680135988",
   "metadata": {},
   "outputs": [
    {
     "name": "stdout",
     "output_type": "stream",
     "text": [
      "Executing UnGrib.exe\n"
     ]
    },
    {
     "name": "stderr",
     "output_type": "stream",
     "text": [
      "\n",
      "real\t10m55.380s\n",
      "user\t9m16.513s\n",
      "sys\t1m1.961s\n"
     ]
    },
    {
     "data": {
      "text/plain": [
       "0"
      ]
     },
     "execution_count": 56,
     "metadata": {},
     "output_type": "execute_result"
    }
   ],
   "source": [
    "print(\"Executing UnGrib.exe\")\n",
    "os.system(\"time \" + WPS_EXE +\"./ungrib.exe >& ./ungriblog.txt \")"
   ]
  },
  {
   "cell_type": "markdown",
   "id": "e0989111-e0c4-4c5e-bb7f-6f8ff06e775d",
   "metadata": {},
   "source": [
    "### Execute METGRID.EXE"
   ]
  },
  {
   "cell_type": "code",
   "execution_count": 57,
   "id": "8eaacc4f",
   "metadata": {},
   "outputs": [
    {
     "name": "stdout",
     "output_type": "stream",
     "text": [
      "Executing MetGrid.exe\n",
      "Processing domain 1 of 3\n",
      " Processing 2021-09-07_12\n",
      "    FILE\n",
      " Processing 2021-09-07_15\n",
      "    FILE\n",
      " Processing 2021-09-07_18\n",
      "    FILE\n",
      " Processing 2021-09-07_21\n",
      "    FILE\n",
      " Processing 2021-09-08_00\n",
      "    FILE\n",
      " Processing 2021-09-08_03\n",
      "    FILE\n",
      " Processing 2021-09-08_06\n",
      "    FILE\n",
      " Processing 2021-09-08_09\n",
      "    FILE\n",
      " Processing 2021-09-08_12\n",
      "    FILE\n",
      " Processing 2021-09-08_15\n",
      "    FILE\n",
      " Processing 2021-09-08_18\n",
      "    FILE\n",
      " Processing 2021-09-08_21\n",
      "    FILE\n",
      " Processing 2021-09-09_00\n",
      "    FILE\n",
      "Processing domain 2 of 3\n",
      " Processing 2021-09-07_12\n",
      "    FILE\n",
      " Processing 2021-09-07_15\n",
      "    FILE\n",
      " Processing 2021-09-07_18\n",
      "    FILE\n",
      " Processing 2021-09-07_21\n",
      "    FILE\n",
      " Processing 2021-09-08_00\n",
      "    FILE\n",
      " Processing 2021-09-08_03\n",
      "    FILE\n",
      " Processing 2021-09-08_06\n",
      "    FILE\n",
      " Processing 2021-09-08_09\n",
      "    FILE\n",
      " Processing 2021-09-08_12\n",
      "    FILE\n",
      " Processing 2021-09-08_15\n",
      "    FILE\n",
      " Processing 2021-09-08_18\n",
      "    FILE\n",
      " Processing 2021-09-08_21\n",
      "    FILE\n",
      " Processing 2021-09-09_00\n",
      "    FILE\n",
      "Processing domain 3 of 3\n",
      " Processing 2021-09-07_12\n",
      "    FILE\n",
      " Processing 2021-09-07_15\n",
      "    FILE\n",
      " Processing 2021-09-07_18\n",
      "    FILE\n",
      " Processing 2021-09-07_21\n",
      "    FILE\n",
      " Processing 2021-09-08_00\n",
      "    FILE\n",
      " Processing 2021-09-08_03\n",
      "    FILE\n",
      " Processing 2021-09-08_06\n",
      "    FILE\n",
      " Processing 2021-09-08_09\n",
      "    FILE\n",
      " Processing 2021-09-08_12\n",
      "    FILE\n",
      " Processing 2021-09-08_15\n",
      "    FILE\n",
      " Processing 2021-09-08_18\n",
      "    FILE\n",
      " Processing 2021-09-08_21\n",
      "    FILE\n",
      " Processing 2021-09-09_00\n",
      "    FILE\n",
      "!!!!!!!!!!!!!!!!!!!!!!!!!!!!!!!!!!!!!!!\n",
      "!  Successful completion of metgrid.  !\n",
      "!!!!!!!!!!!!!!!!!!!!!!!!!!!!!!!!!!!!!!!\n"
     ]
    },
    {
     "name": "stderr",
     "output_type": "stream",
     "text": [
      "Note: The following floating-point exceptions are signalling: IEEE_UNDERFLOW_FLAG IEEE_DENORMAL\n",
      "\n",
      "real\t15m12.415s\n",
      "user\t14m25.939s\n",
      "sys\t0m32.087s\n"
     ]
    },
    {
     "data": {
      "text/plain": [
       "0"
      ]
     },
     "execution_count": 57,
     "metadata": {},
     "output_type": "execute_result"
    }
   ],
   "source": [
    "print(\"Executing MetGrid.exe\")\n",
    "\n",
    "os.system(\"time \" + WPS_EXE +\"./metgrid.exe \")"
   ]
  },
  {
   "cell_type": "markdown",
   "id": "6b432344-8ee7-4e3c-954d-fbf53d25781f",
   "metadata": {},
   "source": [
    "## WRF Section"
   ]
  },
  {
   "cell_type": "code",
   "execution_count": 58,
   "id": "edd54c21-0e98-4471-84ec-07667c408d6a",
   "metadata": {},
   "outputs": [
    {
     "name": "stdout",
     "output_type": "stream",
     "text": [
      "Entering WRF Section\n"
     ]
    },
    {
     "data": {
      "text/plain": [
       "'Current Working Directory is now /Users/wjc/GitHub/SD_Mines_WRF_REALTIME/WRF4/WRF/test/em_real'"
      ]
     },
     "metadata": {},
     "output_type": "display_data"
    }
   ],
   "source": [
    "\n",
    "print(\"Entering WRF Section\")\n",
    "\n",
    "os.chdir(WRF_EXE)\n",
    "\n",
    "display( \"Current Working Directory is now \" + os.getcwd() )"
   ]
  },
  {
   "cell_type": "markdown",
   "id": "6d1a0f43-da3e-4f3c-b077-85e393f7b27c",
   "metadata": {},
   "source": [
    "### Cleaning WRF"
   ]
  },
  {
   "cell_type": "code",
   "execution_count": 59,
   "id": "bb165f1e-9129-45e5-946c-517c08bd6894",
   "metadata": {},
   "outputs": [
    {
     "name": "stdout",
     "output_type": "stream",
     "text": [
      "Cleaning WRF Directory\n",
      "/Users/wjc/GitHub/SD_Mines_WRF_REALTIME/./WRF4/WRF/test/em_real/./NAMELIST_TIME_CONTROL.TXT\n",
      "/Users/wjc/GitHub/SD_Mines_WRF_REALTIME/./WRF4/WRF/test/em_real/./namelist.input\n"
     ]
    },
    {
     "data": {
      "text/plain": [
       "0"
      ]
     },
     "execution_count": 59,
     "metadata": {},
     "output_type": "execute_result"
    }
   ],
   "source": [
    "print(\"Cleaning WRF Directory\")\n",
    "\n",
    "os.system(\"rm -frv \" + WRF_EXE + \"./met_em*.nc\")\n",
    "os.system(\"rm -frv \" + WRF_EXE + \"./NAMELIST_TIME_CONTROL.TXT\")\n",
    "os.system(\"rm -frv \" + WRF_EXE + \"./namelist.input\")\n",
    "os.system(\"rm -frv \" + WRF_EXE + \"./wrfbdy_*\")\n",
    "os.system(\"rm -frv \" + WRF_EXE + \"./wrfinput_*\")\n",
    "os.system(\"rm -frv \" + WRF_EXE + \"./wrfout*\")\n"
   ]
  },
  {
   "cell_type": "markdown",
   "id": "48477c89-6b70-49ca-9ac6-13ca847b6e2e",
   "metadata": {},
   "source": [
    "### Pulling Metgrid files over from WPS Section"
   ]
  },
  {
   "cell_type": "code",
   "execution_count": 60,
   "id": "8e1d55c0-5073-457d-88c7-42b66fa6d027",
   "metadata": {},
   "outputs": [
    {
     "name": "stdout",
     "output_type": "stream",
     "text": [
      "Copying MetGRID Files from WPS to WRF Area\n",
      "/Users/wjc/GitHub/SD_Mines_WRF_REALTIME/./WPS_PrepArea/./met_em.d01.2021-09-07_12:00:00.nc -> ./met_em.d01.2021-09-07_12:00:00.nc\n",
      "/Users/wjc/GitHub/SD_Mines_WRF_REALTIME/./WPS_PrepArea/./met_em.d01.2021-09-07_15:00:00.nc -> ./met_em.d01.2021-09-07_15:00:00.nc\n",
      "/Users/wjc/GitHub/SD_Mines_WRF_REALTIME/./WPS_PrepArea/./met_em.d01.2021-09-07_18:00:00.nc -> ./met_em.d01.2021-09-07_18:00:00.nc\n",
      "/Users/wjc/GitHub/SD_Mines_WRF_REALTIME/./WPS_PrepArea/./met_em.d01.2021-09-07_21:00:00.nc -> ./met_em.d01.2021-09-07_21:00:00.nc\n",
      "/Users/wjc/GitHub/SD_Mines_WRF_REALTIME/./WPS_PrepArea/./met_em.d01.2021-09-08_00:00:00.nc -> ./met_em.d01.2021-09-08_00:00:00.nc\n",
      "/Users/wjc/GitHub/SD_Mines_WRF_REALTIME/./WPS_PrepArea/./met_em.d01.2021-09-08_03:00:00.nc -> ./met_em.d01.2021-09-08_03:00:00.nc\n",
      "/Users/wjc/GitHub/SD_Mines_WRF_REALTIME/./WPS_PrepArea/./met_em.d01.2021-09-08_06:00:00.nc -> ./met_em.d01.2021-09-08_06:00:00.nc\n",
      "/Users/wjc/GitHub/SD_Mines_WRF_REALTIME/./WPS_PrepArea/./met_em.d01.2021-09-08_09:00:00.nc"
     ]
    },
    {
     "data": {
      "text/plain": [
       "0"
      ]
     },
     "execution_count": 60,
     "metadata": {},
     "output_type": "execute_result"
    },
    {
     "name": "stdout",
     "output_type": "stream",
     "text": [
      " -> ./met_em.d01.2021-09-08_09:00:00.nc\n",
      "/Users/wjc/GitHub/SD_Mines_WRF_REALTIME/./WPS_PrepArea/./met_em.d01.2021-09-08_12:00:00.nc -> ./met_em.d01.2021-09-08_12:00:00.nc\n",
      "/Users/wjc/GitHub/SD_Mines_WRF_REALTIME/./WPS_PrepArea/./met_em.d01.2021-09-08_15:00:00.nc -> ./met_em.d01.2021-09-08_15:00:00.nc\n",
      "/Users/wjc/GitHub/SD_Mines_WRF_REALTIME/./WPS_PrepArea/./met_em.d01.2021-09-08_18:00:00.nc -> ./met_em.d01.2021-09-08_18:00:00.nc\n",
      "/Users/wjc/GitHub/SD_Mines_WRF_REALTIME/./WPS_PrepArea/./met_em.d01.2021-09-08_21:00:00.nc -> ./met_em.d01.2021-09-08_21:00:00.nc\n",
      "/Users/wjc/GitHub/SD_Mines_WRF_REALTIME/./WPS_PrepArea/./met_em.d01.2021-09-09_00:00:00.nc -> ./met_em.d01.2021-09-09_00:00:00.nc\n",
      "/Users/wjc/GitHub/SD_Mines_WRF_REALTIME/./WPS_PrepArea/./met_em.d02.2021-09-07_12:00:00.nc -> ./met_em.d02.2021-09-07_12:00:00.nc\n",
      "/Users/wjc/GitHub/SD_Mines_WRF_REALTIME/./WPS_PrepArea/./met_em.d02.2021-09-07_15:00:00.nc -> ./met_em.d02.2021-09-07_15:00:00.nc\n",
      "/Users/wjc/GitHub/SD_Mines_WRF_REALTIME/./WPS_Prep"
     ]
    }
   ],
   "source": [
    "print(\"Copying MetGRID Files from WPS to WRF Area\")\n",
    "\n",
    "os.system(\"mv -v \" + WPS_WORK + \"./met_em.d??.*.nc  ./\")"
   ]
  },
  {
   "cell_type": "markdown",
   "id": "b54a474a-62e1-42a6-89a9-a60b983ee419",
   "metadata": {},
   "source": [
    "### Write WRF Input File Area\n",
    "\n",
    "```\n",
    " &time_control\n",
    " run_days                            = 0,\n",
    " run_hours                           = 36,\n",
    " run_minutes                         = 0,\n",
    " run_seconds                         = 0,\n",
    " start_year                          = 2019, 2019,\n",
    " start_month                         = 09,   09,\n",
    " start_day                           = 04,   04,\n",
    " start_hour                          = 12,   12,\n",
    " end_year                            = 2019, 2019,\n",
    " end_month                           = 09,   09,\n",
    " end_day                             = 06,   06,\n",
    " end_hour                            = 00,   00,\n",
    " interval_seconds                    = 10800\n",
    " input_from_file                     = .true.,.true.,\n",
    " history_interval                    = 60,  60,\n",
    " frames_per_outfile                  = 1, 1,\n",
    " restart                             = .false.,\n",
    " restart_interval                    = 7200,\n",
    " io_form_history                     = 2\n",
    " io_form_restart                     = 2\n",
    " io_form_input                       = 2\n",
    " io_form_boundary                    = 2\n",
    " /\n",
    "```"
   ]
  },
  {
   "cell_type": "code",
   "execution_count": 61,
   "id": "d541087a-ba5d-4a32-ae34-b169cddb3b49",
   "metadata": {},
   "outputs": [
    {
     "name": "stdout",
     "output_type": "stream",
     "text": [
      "Create Namelist.Input File\n",
      "Area/./met_em.d02.2021-09-07_18:00:00.nc -> ./met_em.d02.2021-09-07_18:00:00.nc\n",
      "/Users/wjc/GitHub/SD_Mines_WRF_REALTIME/./WPS_PrepArea/./met_em.d02.2021-09-07_21:00:00.nc -> ./met_em.d02.2021-09-07_21:00:00.nc\n",
      "/Users/wjc/GitHub/SD_Mines_WRF_REALTIME/./WPS_PrepArea/./met_em.d02.2021-09-08_00:00:00.nc -> ./met_em.d02.2021-09-08_00:00:00.nc\n",
      "/Users/wjc/GitHub/SD_Mines_WRF_REALTIME/./WPS_PrepArea/./met_em.d02.2021-09-08_03:00:00.nc -> ./met_em.d02.2021-09-08_03:00:00.nc\n",
      "/Users/wjc/GitHub/SD_Mines_WRF_REALTIME/./WPS_PrepArea/./met_em.d02.2021-09-08_06:00:00.nc -> ./met_em.d02.2021-09-08_06:00:00.nc\n",
      "/Users/wjc/GitHub/SD_Mines_WRF_REALTIME/./WPS_PrepArea/./met_em.d02.2021-09-08_09:00:00.nc -> ./met_em.d02.2021-09-08_09:00:00.nc\n",
      "/Users/wjc/GitHub/SD_Mines_WRF_REALTIME/./WPS_PrepArea/./met_em.d02.2021-09-08_12:00:00.nc -> ./met_em.d02.2021-09-08_12:00:00.nc\n",
      "/Users/wjc/GitHub/SD_Mines_WRF_REALTIME/./WPS_PrepArea/./met_em.d02.2021-09-08_15:00:00.nc -> ./met_em.d02.2021-09-08_15:00:00.nc\n",
      "/Users/wjc/GitHub/SD_Mines_WRF_REALTIME/./WPS_PrepArea/./met_em.d02.2021-09-08_18:00:00.nc -> ./met_em.d02.2021-09-08_18:00:00.nc\n",
      "/Users/wjc/GitHub/SD_Mines_WRF_REALTIME/./WPS_PrepArea/./met_em.d02.2021-09-08_21:00:00.nc -> ./met_em.d02.2021-09-08_21:00:00.nc\n",
      "/Users/wjc/GitHub/SD_Mines_WRF_REALTIME/./WPS_PrepArea/./met_em.d02.2021-09-09_00:00:00.nc -> ./met_em.d02.2021-09-09_00:00:00.nc\n",
      "/Users/wjc/GitHub/SD_Mines_WRF_REALTIME/./WPS_PrepArea/./met_em.d03.2021-09-07_12:00:00.nc -> ./met_em.d03.2021-09-07_12:00:00.nc\n",
      "/Users/wjc/GitHub/SD_Mines_WRF_REALTIME/./WPS_PrepArea/./met_em.d03.2021-09-07_15:00:00.nc -> ./met_em.d03.2021-09-07_15:00:00.nc\n",
      "/Users/wjc/GitHub/SD_Mines_WRF_REALTIME/./WPS_PrepArea/./met_em.d03.2021-09-07_18:00:00.nc -> ./met_em.d03.2021-09-07_18:00:00.nc\n",
      "/Users/wjc/GitHub/SD_Mines_WRF_REALTIME/./WPS_PrepArea/./met_em.d03.2021-09-07_21:00:00.nc -> ./met_em.d03.2021-09-07_21:00:00.nc\n",
      "/Users/wjc/GitHub/SD_Mines_WRF_REALTIME/./WPS_PrepArea/./met_em.d03.2021-09-08_00:00:00.nc -> ./met_"
     ]
    },
    {
     "data": {
      "text/plain": [
       "0"
      ]
     },
     "execution_count": 61,
     "metadata": {},
     "output_type": "execute_result"
    },
    {
     "name": "stdout",
     "output_type": "stream",
     "text": [
      "em.d03.2021-09-08_00:00:00.nc\n",
      "/Users/wjc/GitHub/SD_Mines_WRF_REALTIME/./WPS_PrepArea/./met_em.d03.2021-09-08_03:00:00.nc -> ./met_em.d03.2021-09-08_03:00:00.nc\n",
      "/Users/wjc/GitHub/SD_Mines_WRF_REALTIME/./WPS_PrepArea/./met_em.d03.2021-09-08_06:00:00.nc -> ./met_em.d03.2021-09-08_06:00:00.nc\n",
      "/Users/wjc/GitHub/SD_Mines_WRF_REALTIME/./WPS_PrepArea/./met_em.d03.2021-09-08_09:00:00.nc -> ./met_em.d03.2021-09-08_09:00:00.nc\n",
      "/Users/wjc/GitHub/SD_Mines_WRF_REALTIME/./WPS_PrepArea/./met_em.d03.2021-09-08_12:00:00.nc -> ./met_em.d03.2021-09-08_12:00:00.nc\n",
      "/Users/wjc/GitHub/SD_Mines_WRF_REALTIME/./WPS_PrepArea/./met_em.d03.2021-09-08_15:00:00.nc -> ./met_em.d03.2021-09-08_15:00:00.nc\n",
      "/Users/wjc/GitHub/SD_Mines_WRF_REALTIME/./WPS_PrepArea/./met_em.d03.2021-09-08_18:00:00.nc -> ./met_em.d03.2021-09-08_18:00:00.nc\n",
      "/Users/wjc/GitHub/SD_Mines_WRF_REALTIME/./WPS_PrepArea/./met_em.d03.2021-09-08_21:00:00.nc -> ./met_em.d03.2021-09-08_21:00:00.nc\n",
      "/Users/wjc/GitHub/SD_Mines_WRF_REALTIME/./WPS_PrepArea/./met_em.d03.2021-09-09_00:00:00.nc -> ./met_em.d03.2021-09-09_00:00:00.nc\n"
     ]
    }
   ],
   "source": [
    "print(\"Create Namelist.Input File\")\n",
    "\n",
    "\n",
    "with open(WRF_EXE + \"./NAMELIST_TIME_CONTROL.TXT\", 'w') as f:\n",
    "    print(\"&time_control\", file =  f)\n",
    "    print(\" run_days           =  0,\", file =  f)\n",
    "    print(\" run_hours          = \"+str(total_sumulation_time)+\",\", file =  f)\n",
    "    print(\" run_minutes        =  0,\", file =  f)\n",
    "    print(\" run_seconds        =  0,\", file =  f)\n",
    "    print(\" start_year         = \",model_start_datetime.strftime(\"%Y, %Y, %Y,\"), file =  f)\n",
    "    print(\" start_month        = \",model_start_datetime.strftime(\"  %m,   %m,   %m,\"), file =  f)\n",
    "    print(\" start_day          = \",model_start_datetime.strftime(\"  %d,   %d,   %d,\"), file =  f)\n",
    "    print(\" start_hour         = \",model_start_datetime.strftime(\"  %H,   %H,   %H,\"), file =  f)\n",
    "    print(\" end_year           = \",  model_end_datetime.strftime(\"%Y, %Y, %Y,\"), file =  f)\n",
    "    print(\" end_month          = \",  model_end_datetime.strftime(\"  %m,   %m,   %m,\"), file =  f)\n",
    "    print(\" end_day            = \",  model_end_datetime.strftime(\"  %d,   %d,   %d,\"), file =  f)\n",
    "    print(\" end_hour           = \",  model_end_datetime.strftime(\"  %H,   %H,   %H,\"), file =  f)\n",
    "    print(\" interval_seconds   = \" + str(time_between_boundary_condition_feeds*3600) + \",\", file =  f)\n",
    "    print(\" history_interval   = \" + str(time_between_output_steps*60) + \",\", str(time_between_output_steps*60) + \",\", str(time_between_output_steps*60) + \",\", file =  f)\n",
    "    print(\" frames_per_outfile =  1,   1,   1,\", file =  f)\n",
    "    print(\" restart            = .false.,\", file =  f)\n",
    "    print(\" restart_interval   = 999999,\", file =  f)\n",
    "    print(\" io_form_history    = 2,\", file =  f)\n",
    "    print(\" io_form_restart    = 2,\", file =  f)\n",
    "    print(\" io_form_input      = 2,\", file =  f)\n",
    "    print(\" io_form_boundary   = 2,\", file =  f)\n",
    "    print(\"/\", file =  f)\n",
    "\n",
    "os.system(\"cat  ./NAMELIST_TIME_CONTROL.TXT ./NAMELIST_WRF_ROOT.TXT > namelist.input\")\n",
    "\n",
    "\n"
   ]
  },
  {
   "cell_type": "markdown",
   "id": "16158f04-18af-4098-be33-68502d58c70b",
   "metadata": {},
   "source": [
    "### Run Real"
   ]
  },
  {
   "cell_type": "code",
   "execution_count": 62,
   "id": "a6c68352-cf70-40c0-a0d7-ffb922800fab",
   "metadata": {},
   "outputs": [
    {
     "name": "stdout",
     "output_type": "stream",
     "text": [
      "Executing Real\n",
      " Ntasks in X            1 , ntasks in Y            1\n",
      "*************************************\n",
      "Configuring physics suite 'conus'\n",
      "\n",
      "         mp_physics:      8      8      8\n",
      "         cu_physics:      6      6      0*\n",
      "      ra_lw_physics:      4      4      4\n",
      "      ra_sw_physics:      4      4      4\n",
      "     bl_pbl_physics:      2      2      2\n",
      "  sf_sfclay_physics:      2      2      2\n",
      " sf_surface_physics:      2      2      2\n",
      "\n",
      "(* = option overrides suite setting)\n",
      "*************************************\n",
      "  Domain # 1: dx =  9000.000 m\n",
      "  Domain # 2: dx =  3000.000 m\n",
      "  Domain # 3: dx =  3000.000 m\n",
      "REAL_EM V4.3 PREPROCESSOR\n",
      "git commit eed56d74b865af4ce9f98ea029226acfe52b0569\n",
      " *************************************\n",
      " Parent domain\n",
      " ids,ide,jds,jde            1         150           1         150\n",
      " ims,ime,jms,jme           -4         155          -4         155\n",
      " ips,ipe,jps,jpe            1         150           1         150\n",
      " *************************************\n",
      "DYNAMICS OPTION: Eulerian Mass Coordinate\n",
      "   alloc_space_field: domain            1 ,            1065449156  bytes allocated\n",
      "Time period #   1 to process = 2021-09-07_12:00:00.\n",
      "Time period #   2 to process = 2021-09-07_15:00:00.\n",
      "Time period #   3 to process = 2021-09-07_18:00:00.\n",
      "Time period #   4 to process = 2021-09-07_21:00:00.\n",
      "Time period #   5 to process = 2021-09-08_00:00:00.\n",
      "Time period #   6 to process = 2021-09-08_03:00:00.\n",
      "Time period #   7 to process = 2021-09-08_06:00:00.\n",
      "Time period #   8 to process = 2021-09-08_09:00:00.\n",
      "Time period #   9 to process = 2021-09-08_12:00:00.\n",
      "Time period #  10 to process = 2021-09-08_15:00:00.\n",
      "Time period #  11 to process = 2021-09-08_18:00:00.\n",
      "Time period #  12 to process = 2021-09-08_21:00:00.\n",
      "Time period #  13 to process = 2021-09-09_00:00:00.\n",
      "Total analysis times to input =   13.\n",
      "  \n",
      " -----------------------------------------------------------------------------\n",
      "  \n",
      " Domain  1: Current date being processed: 2021-09-07_12:00:00.0000, which is loop #   1 out of   13\n",
      " configflags%julyr, %julday, %gmt:        2021         250   12.0000000    \n",
      "d01 2021-09-07_12:00:00  Yes, this special data is acceptable to use: OUTPUT FROM METGRID V4.3\n",
      "d01 2021-09-07_12:00:00  Input data is acceptable to use: met_em.d01.2021-09-07_12:00:00.nc\n",
      " metgrid input_wrf.F first_date_input = 2021-09-07_12:00:00\n",
      " metgrid input_wrf.F first_date_nml = 2021-09-07_12:00:00\n",
      "d01 2021-09-07_12:00:00 Timing for input          0 s.\n",
      "d01 2021-09-07_12:00:00          flag_soil_layers read from met_em file is  1\n",
      "Max map factor in domain 1 =  1.01. Scale the dt in the model accordingly.\n",
      "Using sfcprs3 to compute psfc\n",
      " using new automatic levels program\n",
      "           1   50.0000000       50.0000000      0.993814707    \n",
      "           2   55.0000000       105.000000      0.987052977       1.10000002    \n",
      "           3   60.5000000       165.500000      0.979665458       1.10000002    \n",
      "           4   66.5500031       232.050003      0.971599758       1.10000002    \n",
      "           5   73.2050018       305.255005      0.962800324       1.10000002    \n",
      "           6   80.5255051       385.780518      0.953208208       1.10000002    \n",
      "           7   88.5780563       474.358582      0.942761540       1.10000002    \n",
      "           8   97.4358673       571.794434      0.931395411       1.10000002    \n",
      "           9   107.179459       678.973877      0.919042587       1.10000002    \n",
      "          10   117.897408       796.871277      0.905633450       1.10000002    \n",
      "          11   129.687149       926.558411      0.891097128       1.10000002    \n",
      "          12   142.655869       1069.21423      0.875361621       1.10000002    \n",
      "          13   156.921463       1226.13574      0.858355403       1.10000002    \n",
      "          14   172.613617       1398.74939      0.840008378       1.10000002    \n",
      "          15   189.874985       1588.62439      0.820253134       1.10000002    \n",
      "          16   208.862488       1797.48682      0.799026966       1.10000002    \n",
      "          17   229.748749       2027.23560      0.776273906       1.10000002    \n",
      "          18   252.723633       2279.95923      0.751946986       1.10000002    \n",
      "          19   277.996002       2557.95532      0.726011097       1.10000002    \n",
      "          20   305.795624       2863.75098      0.698446214       1.10000002    \n",
      "          21   336.375183       3200.12622      0.669250667       1.10000002    \n",
      "          22   370.012695       3570.13892      0.638444543       1.10000002    \n",
      "          23   407.013977       3977.15283      0.606074095       1.10000002    \n",
      "          24   447.715393       4424.86816      0.572215140       1.10000002    \n",
      "          25   492.486938       4917.35498      0.536976993       1.10000002    \n",
      "          26   541.735657       5459.09082      0.500505865       1.10000002    \n",
      "          27   595.909241       6055.00000      0.462987870       1.10000002    \n",
      "          28   655.500183       6710.50000      0.424650490       1.10000002    \n",
      "          29   721.050232       7431.55029      0.385763407       1.10000002    \n",
      "          30   793.155273       8224.70508      0.346636951       1.10000002    \n",
      "          31   872.470825       9097.17578      0.307618916       1.10000002    \n",
      "          32   959.717957       10056.8936      0.269088268       1.10000002    \n",
      "          33   1055.68982       11112.5830      0.231447041       1.10000002    \n",
      "          34   1161.25879       12273.8418      0.195107996       1.10000002    \n",
      "          35   1277.38464       13551.2266      0.160480365       1.10000002    \n",
      "   25416.3906       13551.2266              44          35\n",
      "          36   1318.35156       14869.5781      0.129809752    \n",
      "          37   1318.35156       16187.9297      0.103553154    \n",
      "          38   1318.35156       17506.2812       8.10753629E-02\n",
      "          39   1318.35156       18824.6328       6.18325360E-02\n",
      "          40   1318.35156       20142.9844       4.53590974E-02\n",
      "          41   1318.35156       21461.3359       3.12564746E-02\n",
      "          42   1318.35156       22779.6875       1.91834755E-02\n",
      "          43   1318.35156       24098.0391       8.84801615E-03\n",
      "          44   1318.35156       25416.3906       1.02796056E-08\n",
      "    1.0000    0.9938    0.9871    0.9797    0.9716    0.9628    0.9532    0.9428    0.9314    0.9190\n",
      "    0.9056    0.8911    0.8754    0.8584    0.8400    0.8203    0.7990    0.7763    0.7519    0.7260\n",
      "    0.6984    0.6693    0.6384    0.6061    0.5722    0.5370    0.5005    0.4630    0.4247    0.3858\n",
      "    0.3466    0.3076    0.2691    0.2314    0.1951    0.1605    0.1298    0.1036    0.0811    0.0618\n",
      "    0.0454    0.0313    0.0192    0.0088    0.0000\n",
      "Full level index =    1     Height =     0.0 m\n",
      "Full level index =    2     Height =    50.0 m      Thickness =   50.0 m\n",
      "Full level index =    3     Height =   104.9 m      Thickness =   54.9 m\n",
      "Full level index =    4     Height =   165.2 m      Thickness =   60.3 m\n",
      "Full level index =    5     Height =   231.5 m      Thickness =   66.3 m\n",
      "Full level index =    6     Height =   304.3 m      Thickness =   72.8 m\n",
      "Full level index =    7     Height =   384.3 m      Thickness =   80.0 m\n",
      "Full level index =    8     Height =   472.1 m      Thickness =   87.8 m\n",
      "Full level index =    9     Height =   568.5 m      Thickness =   96.4 m\n",
      "Full level index =   10     Height =   674.3 m      Thickness =  105.8 m\n",
      "Full level index =   11     Height =   790.4 m      Thickness =  116.1 m\n",
      "Full level index =   12     Height =   917.8 m      Thickness =  127.4 m\n",
      "Full level index =   13     Height =  1057.6 m      Thickness =  139.8 m\n",
      "Full level index =   14     Height =  1210.8 m      Thickness =  153.3 m\n",
      "Full level index =   15     Height =  1378.9 m      Thickness =  168.0 m\n",
      "Full level index =   16     Height =  1563.0 m      Thickness =  184.1 m\n",
      "Full level index =   17     Height =  1764.6 m      Thickness =  201.7 m\n",
      "Full level index =   18     Height =  1985.4 m      Thickness =  220.8 m\n",
      "Full level index =   19     Height =  2227.1 m      Thickness =  241.6 m\n",
      "Full level index =   20     Height =  2491.4 m      Thickness =  264.3 m\n",
      "Full level index =   21     Height =  2780.3 m      Thickness =  288.9 m\n",
      "Full level index =   22     Height =  3095.9 m      Thickness =  315.6 m\n",
      "Full level index =   23     Height =  3440.5 m      Thickness =  344.5 m\n",
      "Full level index =   24     Height =  3816.2 m      Thickness =  375.7 m\n",
      "Full level index =   25     Height =  4225.6 m      Thickness =  409.4 m\n",
      "Full level index =   26     Height =  4671.3 m      Thickness =  445.6 m\n",
      "Full level index =   27     Height =  5155.8 m      Thickness =  484.5 m\n",
      "Full level index =   28     Height =  5681.8 m      Thickness =  526.0 m\n",
      "Full level index =   29     Height =  6252.1 m      Thickness =  570.3 m\n",
      "Full level index =   30     Height =  6869.3 m      Thickness =  617.2 m\n",
      "Full level index =   31     Height =  7535.9 m      Thickness =  666.6 m\n",
      "Full level index =   32     Height =  8254.4 m      Thickness =  718.5 m\n",
      "Full level index =   33     Height =  9026.8 m      Thickness =  772.4 m\n",
      "Full level index =   34     Height =  9854.7 m      Thickness =  827.9 m\n",
      "Full level index =   35     Height = 10739.1 m      Thickness =  884.4 m\n",
      "Full level index =   36     Height = 11680.1 m      Thickness =  941.0 m\n",
      "Full level index =   37     Height = 12616.6 m      Thickness =  936.4 m\n",
      "Full level index =   38     Height = 13523.9 m      Thickness =  907.4 m\n",
      "Full level index =   39     Height = 14431.3 m      Thickness =  907.4 m\n",
      "Full level index =   40     Height = 15338.7 m      Thickness =  907.4 m\n",
      "Full level index =   41     Height = 16246.1 m      Thickness =  907.4 m\n",
      "Full level index =   42     Height = 17153.5 m      Thickness =  907.4 m\n",
      "Full level index =   43     Height = 18060.9 m      Thickness =  907.4 m\n",
      "Full level index =   44     Height = 18968.2 m      Thickness =  907.4 m\n",
      "Full level index =   45     Height = 19875.6 m      Thickness =  907.4 m\n",
      "d01 2021-09-07_12:00:00 No average surface temperature for use with inland lakes\n",
      " Assume Noah LSM input\n",
      "d01 2021-09-07_12:00:00 forcing artificial silty clay loam at   72 points, out of  22201\n",
      "d01 2021-09-07_12:00:00 Timing for processing          2 s.\n",
      "d01 2021-09-07_12:00:00 Timing for output          2 s.\n",
      "d01 2021-09-07_12:00:00 Timing for loop #    1 =          4 s.\n",
      "  \n",
      " -----------------------------------------------------------------------------\n",
      "  \n",
      " Domain  1: Current date being processed: 2021-09-07_15:00:00.0000, which is loop #   2 out of   13\n",
      " configflags%julyr, %julday, %gmt:        2021         250   15.0000000    \n",
      "d01 2021-09-07_15:00:00  Yes, this special data is acceptable to use: OUTPUT FROM METGRID V4.3\n",
      "d01 2021-09-07_15:00:00  Input data is acceptable to use: met_em.d01.2021-09-07_15:00:00.nc\n",
      " metgrid input_wrf.F first_date_input = 2021-09-07_15:00:00\n",
      " metgrid input_wrf.F first_date_nml = 2021-09-07_12:00:00\n",
      "d01 2021-09-07_15:00:00 Timing for input          0 s.\n",
      "d01 2021-09-07_15:00:00          flag_soil_layers read from met_em file is  1\n",
      "Using sfcprs3 to compute psfc\n",
      "d01 2021-09-07_15:00:00 No average surface temperature for use with inland lakes\n",
      " Assume Noah LSM input\n",
      "d01 2021-09-07_15:00:00 forcing artificial silty clay loam at   24 points, out of  22201\n",
      "d01 2021-09-07_15:00:00 Timing for processing          0 s.\n",
      " LBC valid between these times 2021-09-07_12:00:00 and 2021-09-07_15:00:00\n",
      "d01 2021-09-07_15:00:00 Timing for output          0 s.\n",
      "d01 2021-09-07_15:00:00 Timing for loop #    2 =          1 s.\n",
      "  \n",
      " -----------------------------------------------------------------------------\n",
      "  \n",
      " Domain  1: Current date being processed: 2021-09-07_18:00:00.0000, which is loop #   3 out of   13\n",
      " configflags%julyr, %julday, %gmt:        2021         250   18.0000000    \n",
      "d01 2021-09-07_18:00:00  Yes, this special data is acceptable to use: OUTPUT FROM METGRID V4.3\n",
      "d01 2021-09-07_18:00:00  Input data is acceptable to use: met_em.d01.2021-09-07_18:00:00.nc\n",
      " metgrid input_wrf.F first_date_input = 2021-09-07_18:00:00\n",
      " metgrid input_wrf.F first_date_nml = 2021-09-07_12:00:00\n",
      "d01 2021-09-07_18:00:00 Timing for input          0 s.\n",
      "d01 2021-09-07_18:00:00          flag_soil_layers read from met_em file is  1\n",
      "Using sfcprs3 to compute psfc\n",
      "d01 2021-09-07_18:00:00 No average surface temperature for use with inland lakes\n",
      " Assume Noah LSM input\n",
      "d01 2021-09-07_18:00:00 forcing artificial silty clay loam at   24 points, out of  22201\n",
      "d01 2021-09-07_18:00:00 Timing for processing          0 s.\n",
      " LBC valid between these times 2021-09-07_15:00:00 and 2021-09-07_18:00:00\n",
      "d01 2021-09-07_18:00:00 Timing for output          0 s.\n",
      "d01 2021-09-07_18:00:00 Timing for loop #    3 =          1 s.\n",
      "  \n",
      " -----------------------------------------------------------------------------\n",
      "  \n",
      " Domain  1: Current date being processed: 2021-09-07_21:00:00.0000, which is loop #   4 out of   13\n",
      " configflags%julyr, %julday, %gmt:        2021         250   21.0000000    \n",
      "d01 2021-09-07_21:00:00  Yes, this special data is acceptable to use: OUTPUT FROM METGRID V4.3\n",
      "d01 2021-09-07_21:00:00  Input data is acceptable to use: met_em.d01.2021-09-07_21:00:00.nc\n",
      " metgrid input_wrf.F first_date_input = 2021-09-07_21:00:00\n",
      " metgrid input_wrf.F first_date_nml = 2021-09-07_12:00:00\n",
      "d01 2021-09-07_21:00:00 Timing for input          0 s.\n",
      "d01 2021-09-07_21:00:00          flag_soil_layers read from met_em file is  1\n",
      "Using sfcprs3 to compute psfc\n",
      "d01 2021-09-07_21:00:00 No average surface temperature for use with inland lakes\n",
      " Assume Noah LSM input\n",
      "d01 2021-09-07_21:00:00 forcing artificial silty clay loam at   24 points, out of  22201\n",
      "d01 2021-09-07_21:00:00 Timing for processing          0 s.\n",
      " LBC valid between these times 2021-09-07_18:00:00 and 2021-09-07_21:00:00\n",
      "d01 2021-09-07_21:00:00 Timing for output          0 s.\n",
      "d01 2021-09-07_21:00:00 Timing for loop #    4 =          1 s.\n",
      "  \n",
      " -----------------------------------------------------------------------------\n",
      "  \n",
      " Domain  1: Current date being processed: 2021-09-08_00:00:00.0000, which is loop #   5 out of   13\n",
      " configflags%julyr, %julday, %gmt:        2021         251   0.00000000    \n",
      "d01 2021-09-08_00:00:00  Yes, this special data is acceptable to use: OUTPUT FROM METGRID V4.3\n",
      "d01 2021-09-08_00:00:00  Input data is acceptable to use: met_em.d01.2021-09-08_00:00:00.nc\n",
      " metgrid input_wrf.F first_date_input = 2021-09-08_00:00:00\n",
      " metgrid input_wrf.F first_date_nml = 2021-09-07_12:00:00\n",
      "d01 2021-09-08_00:00:00 Timing for input          0 s.\n",
      "d01 2021-09-08_00:00:00          flag_soil_layers read from met_em file is  1\n",
      "Using sfcprs3 to compute psfc\n",
      "d01 2021-09-08_00:00:00 No average surface temperature for use with inland lakes\n",
      " Assume Noah LSM input\n",
      "d01 2021-09-08_00:00:00 forcing artificial silty clay loam at   24 points, out of  22201\n",
      "d01 2021-09-08_00:00:00 Timing for processing          0 s.\n",
      " LBC valid between these times 2021-09-07_21:00:00 and 2021-09-08_00:00:00\n",
      "d01 2021-09-08_00:00:00 Timing for output          0 s.\n",
      "d01 2021-09-08_00:00:00 Timing for loop #    5 =          1 s.\n",
      "  \n",
      " -----------------------------------------------------------------------------\n",
      "  \n",
      " Domain  1: Current date being processed: 2021-09-08_03:00:00.0000, which is loop #   6 out of   13\n",
      " configflags%julyr, %julday, %gmt:        2021         251   3.00000000    \n",
      "d01 2021-09-08_03:00:00  Yes, this special data is acceptable to use: OUTPUT FROM METGRID V4.3\n",
      "d01 2021-09-08_03:00:00  Input data is acceptable to use: met_em.d01.2021-09-08_03:00:00.nc\n",
      " metgrid input_wrf.F first_date_input = 2021-09-08_03:00:00\n",
      " metgrid input_wrf.F first_date_nml = 2021-09-07_12:00:00\n",
      "d01 2021-09-08_03:00:00 Timing for input          0 s.\n",
      "d01 2021-09-08_03:00:00          flag_soil_layers read from met_em file is  1\n",
      "Using sfcprs3 to compute psfc\n",
      "d01 2021-09-08_03:00:00 No average surface temperature for use with inland lakes\n",
      " Assume Noah LSM input\n",
      "d01 2021-09-08_03:00:00 forcing artificial silty clay loam at   24 points, out of  22201\n",
      "d01 2021-09-08_03:00:00 Timing for processing          0 s.\n",
      " LBC valid between these times 2021-09-08_00:00:00 and 2021-09-08_03:00:00\n",
      "d01 2021-09-08_03:00:00 Timing for output          0 s.\n",
      "d01 2021-09-08_03:00:00 Timing for loop #    6 =          1 s.\n",
      "  \n",
      " -----------------------------------------------------------------------------\n",
      "  \n",
      " Domain  1: Current date being processed: 2021-09-08_06:00:00.0000, which is loop #   7 out of   13\n",
      " configflags%julyr, %julday, %gmt:        2021         251   6.00000000    \n",
      "d01 2021-09-08_06:00:00  Yes, this special data is acceptable to use: OUTPUT FROM METGRID V4.3\n",
      "d01 2021-09-08_06:00:00  Input data is acceptable to use: met_em.d01.2021-09-08_06:00:00.nc\n",
      " metgrid input_wrf.F first_date_input = 2021-09-08_06:00:00\n",
      " metgrid input_wrf.F first_date_nml = 2021-09-07_12:00:00\n",
      "d01 2021-09-08_06:00:00 Timing for input          0 s.\n",
      "d01 2021-09-08_06:00:00          flag_soil_layers read from met_em file is  1\n",
      "Using sfcprs3 to compute psfc\n",
      "d01 2021-09-08_06:00:00 No average surface temperature for use with inland lakes\n",
      " Assume Noah LSM input\n",
      "d01 2021-09-08_06:00:00 forcing artificial silty clay loam at   24 points, out of  22201\n",
      "d01 2021-09-08_06:00:00 Timing for processing          0 s.\n",
      " LBC valid between these times 2021-09-08_03:00:00 and 2021-09-08_06:00:00\n",
      "d01 2021-09-08_06:00:00 Timing for output          0 s.\n",
      "d01 2021-09-08_06:00:00 Timing for loop #    7 =          1 s.\n",
      "  \n",
      " -----------------------------------------------------------------------------\n",
      "  \n",
      " Domain  1: Current date being processed: 2021-09-08_09:00:00.0000, which is loop #   8 out of   13\n",
      " configflags%julyr, %julday, %gmt:        2021         251   9.00000000    \n",
      "d01 2021-09-08_09:00:00  Yes, this special data is acceptable to use: OUTPUT FROM METGRID V4.3\n",
      "d01 2021-09-08_09:00:00  Input data is acceptable to use: met_em.d01.2021-09-08_09:00:00.nc\n",
      " metgrid input_wrf.F first_date_input = 2021-09-08_09:00:00\n",
      " metgrid input_wrf.F first_date_nml = 2021-09-07_12:00:00\n",
      "d01 2021-09-08_09:00:00 Timing for input          0 s.\n",
      "d01 2021-09-08_09:00:00          flag_soil_layers read from met_em file is  1\n",
      "Using sfcprs3 to compute psfc\n",
      "d01 2021-09-08_09:00:00 No average surface temperature for use with inland lakes\n",
      " Assume Noah LSM input\n",
      "d01 2021-09-08_09:00:00 forcing artificial silty clay loam at   24 points, out of  22201\n",
      "d01 2021-09-08_09:00:00 Timing for processing          0 s.\n",
      " LBC valid between these times 2021-09-08_06:00:00 and 2021-09-08_09:00:00\n",
      "d01 2021-09-08_09:00:00 Timing for output          0 s.\n",
      "d01 2021-09-08_09:00:00 Timing for loop #    8 =          1 s.\n",
      "  \n",
      " -----------------------------------------------------------------------------\n",
      "  \n",
      " Domain  1: Current date being processed: 2021-09-08_12:00:00.0000, which is loop #   9 out of   13\n",
      " configflags%julyr, %julday, %gmt:        2021         251   12.0000000    \n",
      "d01 2021-09-08_12:00:00  Yes, this special data is acceptable to use: OUTPUT FROM METGRID V4.3\n",
      "d01 2021-09-08_12:00:00  Input data is acceptable to use: met_em.d01.2021-09-08_12:00:00.nc\n",
      " metgrid input_wrf.F first_date_input = 2021-09-08_12:00:00\n",
      " metgrid input_wrf.F first_date_nml = 2021-09-07_12:00:00\n",
      "d01 2021-09-08_12:00:00 Timing for input          0 s.\n",
      "d01 2021-09-08_12:00:00          flag_soil_layers read from met_em file is  1\n",
      "Using sfcprs3 to compute psfc\n",
      "d01 2021-09-08_12:00:00 No average surface temperature for use with inland lakes\n",
      " Assume Noah LSM input\n",
      "d01 2021-09-08_12:00:00 forcing artificial silty clay loam at   24 points, out of  22201\n",
      "d01 2021-09-08_12:00:00 Timing for processing          0 s.\n",
      " LBC valid between these times 2021-09-08_09:00:00 and 2021-09-08_12:00:00\n",
      "d01 2021-09-08_12:00:00 Timing for output          0 s.\n",
      "d01 2021-09-08_12:00:00 Timing for loop #    9 =          1 s.\n",
      "  \n",
      " -----------------------------------------------------------------------------\n",
      "  \n",
      " Domain  1: Current date being processed: 2021-09-08_15:00:00.0000, which is loop #  10 out of   13\n",
      " configflags%julyr, %julday, %gmt:        2021         251   15.0000000    \n",
      "d01 2021-09-08_15:00:00  Yes, this special data is acceptable to use: OUTPUT FROM METGRID V4.3\n",
      "d01 2021-09-08_15:00:00  Input data is acceptable to use: met_em.d01.2021-09-08_15:00:00.nc\n",
      " metgrid input_wrf.F first_date_input = 2021-09-08_15:00:00\n",
      " metgrid input_wrf.F first_date_nml = 2021-09-07_12:00:00\n",
      "d01 2021-09-08_15:00:00 Timing for input          0 s.\n",
      "d01 2021-09-08_15:00:00          flag_soil_layers read from met_em file is  1\n",
      "Using sfcprs3 to compute psfc\n",
      "d01 2021-09-08_15:00:00 No average surface temperature for use with inland lakes\n",
      " Assume Noah LSM input\n",
      "d01 2021-09-08_15:00:00 forcing artificial silty clay loam at   24 points, out of  22201\n",
      "d01 2021-09-08_15:00:00 Timing for processing          1 s.\n",
      " LBC valid between these times 2021-09-08_12:00:00 and 2021-09-08_15:00:00\n",
      "d01 2021-09-08_15:00:00 Timing for output          0 s.\n",
      "d01 2021-09-08_15:00:00 Timing for loop #   10 =          1 s.\n",
      "  \n",
      " -----------------------------------------------------------------------------\n",
      "  \n",
      " Domain  1: Current date being processed: 2021-09-08_18:00:00.0000, which is loop #  11 out of   13\n",
      " configflags%julyr, %julday, %gmt:        2021         251   18.0000000    \n",
      "d01 2021-09-08_18:00:00  Yes, this special data is acceptable to use: OUTPUT FROM METGRID V4.3\n",
      "d01 2021-09-08_18:00:00  Input data is acceptable to use: met_em.d01.2021-09-08_18:00:00.nc\n",
      " metgrid input_wrf.F first_date_input = 2021-09-08_18:00:00\n",
      " metgrid input_wrf.F first_date_nml = 2021-09-07_12:00:00\n",
      "d01 2021-09-08_18:00:00 Timing for input          0 s.\n",
      "d01 2021-09-08_18:00:00          flag_soil_layers read from met_em file is  1\n",
      "Using sfcprs3 to compute psfc\n",
      "d01 2021-09-08_18:00:00 No average surface temperature for use with inland lakes\n",
      " Assume Noah LSM input\n",
      "d01 2021-09-08_18:00:00 forcing artificial silty clay loam at   24 points, out of  22201\n",
      "d01 2021-09-08_18:00:00 Timing for processing          0 s.\n",
      " LBC valid between these times 2021-09-08_15:00:00 and 2021-09-08_18:00:00\n",
      "d01 2021-09-08_18:00:00 Timing for output          0 s.\n",
      "d01 2021-09-08_18:00:00 Timing for loop #   11 =          1 s.\n",
      "  \n",
      " -----------------------------------------------------------------------------\n",
      "  \n",
      " Domain  1: Current date being processed: 2021-09-08_21:00:00.0000, which is loop #  12 out of   13\n",
      " configflags%julyr, %julday, %gmt:        2021         251   21.0000000    \n",
      "d01 2021-09-08_21:00:00  Yes, this special data is acceptable to use: OUTPUT FROM METGRID V4.3\n",
      "d01 2021-09-08_21:00:00  Input data is acceptable to use: met_em.d01.2021-09-08_21:00:00.nc\n",
      " metgrid input_wrf.F first_date_input = 2021-09-08_21:00:00\n",
      " metgrid input_wrf.F first_date_nml = 2021-09-07_12:00:00\n",
      "d01 2021-09-08_21:00:00 Timing for input          0 s.\n",
      "d01 2021-09-08_21:00:00          flag_soil_layers read from met_em file is  1\n",
      "Using sfcprs3 to compute psfc\n",
      "d01 2021-09-08_21:00:00 No average surface temperature for use with inland lakes\n",
      " Assume Noah LSM input\n",
      "d01 2021-09-08_21:00:00 forcing artificial silty clay loam at   24 points, out of  22201\n",
      "d01 2021-09-08_21:00:00 Timing for processing          0 s.\n",
      " LBC valid between these times 2021-09-08_18:00:00 and 2021-09-08_21:00:00\n",
      "d01 2021-09-08_21:00:00 Timing for output          0 s.\n",
      "d01 2021-09-08_21:00:00 Timing for loop #   12 =          1 s.\n",
      "  \n",
      " -----------------------------------------------------------------------------\n",
      "  \n",
      " Domain  1: Current date being processed: 2021-09-09_00:00:00.0000, which is loop #  13 out of   13\n",
      " configflags%julyr, %julday, %gmt:        2021         252   0.00000000    \n",
      "d01 2021-09-09_00:00:00  Yes, this special data is acceptable to use: OUTPUT FROM METGRID V4.3\n",
      "d01 2021-09-09_00:00:00  Input data is acceptable to use: met_em.d01.2021-09-09_00:00:00.nc\n",
      " metgrid input_wrf.F first_date_input = 2021-09-09_00:00:00\n",
      " metgrid input_wrf.F first_date_nml = 2021-09-07_12:00:00\n",
      "d01 2021-09-09_00:00:00 Timing for input          0 s.\n",
      "d01 2021-09-09_00:00:00          flag_soil_layers read from met_em file is  1\n",
      "Using sfcprs3 to compute psfc\n",
      "d01 2021-09-09_00:00:00 No average surface temperature for use with inland lakes\n",
      " Assume Noah LSM input\n",
      "d01 2021-09-09_00:00:00 forcing artificial silty clay loam at   24 points, out of  22201\n",
      "d01 2021-09-09_00:00:00 Timing for processing          0 s.\n",
      " LBC valid between these times 2021-09-08_21:00:00 and 2021-09-09_00:00:00\n",
      "d01 2021-09-09_00:00:00 Timing for output          0 s.\n",
      "d01 2021-09-09_00:00:00 Timing for loop #   13 =          1 s.\n",
      "d01 2021-09-09_00:00:00 real_em: SUCCESS COMPLETE REAL_EM INIT\n"
     ]
    },
    {
     "name": "stderr",
     "output_type": "stream",
     "text": [
      "\n",
      "real\t0m17.604s\n",
      "user\t0m15.023s\n",
      "sys\t0m1.108s\n"
     ]
    },
    {
     "data": {
      "text/plain": [
       "0"
      ]
     },
     "execution_count": 62,
     "metadata": {},
     "output_type": "execute_result"
    }
   ],
   "source": [
    "print(\"Executing Real\")\n",
    "\n",
    "os.system(\"time ./real.exe\")"
   ]
  },
  {
   "cell_type": "markdown",
   "id": "5355f347-7e04-4579-9c77-5babeb426622",
   "metadata": {},
   "source": [
    "### Run WRF"
   ]
  },
  {
   "cell_type": "code",
   "execution_count": 63,
   "id": "9c0ee2ad-e8e4-4081-af93-0dfa106b8083",
   "metadata": {},
   "outputs": [
    {
     "name": "stdout",
     "output_type": "stream",
     "text": [
      "Executing WRF\n",
      " Ntasks in X            1 , ntasks in Y            1\n",
      "*************************************\n",
      "Configuring physics suite 'conus'\n",
      "\n",
      "         mp_physics:      8      8      8\n",
      "         cu_physics:      6      6      0*\n",
      "      ra_lw_physics:      4      4      4\n",
      "      ra_sw_physics:      4      4      4\n",
      "     bl_pbl_physics:      2      2      2\n",
      "  sf_sfclay_physics:      2      2      2\n",
      " sf_surface_physics:      2      2      2\n",
      "\n",
      "(* = option overrides suite setting)\n",
      "*************************************\n",
      "  Domain # 1: dx =  9000.000 m\n",
      "  Domain # 2: dx =  3000.000 m\n",
      "  Domain # 3: dx =  3000.000 m\n",
      "WRF V4.3 MODEL\n",
      "git commit eed56d74b865af4ce9f98ea029226acfe52b0569\n",
      " *************************************\n",
      " Parent domain\n",
      " ids,ide,jds,jde            1         150           1         150\n",
      " ims,ime,jms,jme           -4         155          -4         155\n",
      " ips,ipe,jps,jpe            1         150           1         150\n",
      " *************************************\n",
      "DYNAMICS OPTION: Eulerian Mass Coordinate\n",
      "   alloc_space_field: domain            1 ,             804124356  bytes allocated\n",
      "  med_initialdata_input: calling input_input\n",
      "   Input data is acceptable to use: wrfinput_d01\n",
      " CURRENT DATE          = 2021-09-07_12:00:00\n",
      " SIMULATION START DATE = 2021-09-07_12:00:00\n",
      "Timing for processing wrfinput file (stream 0) for domain        1:    0.50457 elapsed seconds\n",
      "Max map factor in domain 1 =  1.01. Scale the dt in the model accordingly.\n",
      " D01: Time step                              =    90.0000000      (s)\n",
      " D01: Grid Distance                          =    9.00000000      (km)\n",
      " D01: Grid Distance Ratio dt/dx              =    10.0000000      (s/km)\n",
      " D01: Ratio Including Maximum Map Factor     =    10.0579205      (s/km)\n",
      " D01: NML defined reasonable_time_step_ratio =    6.00000000\n",
      "The time step is probably too large for this grid distance, reduce it.\n",
      " If you are sure of your settings, set reasonable_time_step_ratio in namelist.input >    10.0579205\n",
      "-------------- FATAL CALLED ---------------\n",
      "FATAL CALLED FROM FILE:  <stdin>  LINE:     338\n",
      "--- ERROR: Time step too large\n",
      "-------------------------------------------\n"
     ]
    },
    {
     "name": "stderr",
     "output_type": "stream",
     "text": [
      "-------------- FATAL CALLED ---------------\n",
      "FATAL CALLED FROM FILE:  <stdin>  LINE:     338\n",
      "--- ERROR: Time step too large\n",
      "-------------------------------------------\n",
      "\n",
      "real\t0m1.782s\n",
      "user\t0m0.872s\n",
      "sys\t0m0.300s\n"
     ]
    },
    {
     "data": {
      "text/plain": [
       "0"
      ]
     },
     "execution_count": 63,
     "metadata": {},
     "output_type": "execute_result"
    }
   ],
   "source": [
    "print(\"Executing WRF\")\n",
    "\n",
    "os.system(\"time ./wrf.exe\")"
   ]
  },
  {
   "cell_type": "code",
   "execution_count": null,
   "id": "4caf04fe-f590-4a40-bc2d-0e20f3527048",
   "metadata": {},
   "outputs": [],
   "source": []
  }
 ],
 "metadata": {
  "kernelspec": {
   "display_name": "Python 3 (ipykernel)",
   "language": "python",
   "name": "python3"
  },
  "language_info": {
   "codemirror_mode": {
    "name": "ipython",
    "version": 3
   },
   "file_extension": ".py",
   "mimetype": "text/x-python",
   "name": "python",
   "nbconvert_exporter": "python",
   "pygments_lexer": "ipython3",
   "version": "3.9.7"
  }
 },
 "nbformat": 4,
 "nbformat_minor": 5
}
